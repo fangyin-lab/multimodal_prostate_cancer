{
 "cells": [
  {
   "cell_type": "code",
   "execution_count": null,
   "metadata": {},
   "outputs": [],
   "source": [
    "#将三种不同模态的图片作为图片的三通道拼接起来\n",
    "import cv2\n",
    "import os\n",
    "import numpy as np\n",
    "ADC=[]\n",
    "DWI=[]\n",
    "T2=[]\n",
    "path =r'/home/yfang/dataset/MRI_110'\n",
    "for i in os.listdir(path):\n",
    "    for j in os.listdir(os.path.join(path,i)):\n",
    "            if i=='adc'and j=='2':\n",
    "                for k in os.listdir(os.path.join(path,i,j)):\n",
    "                    ADC_0 = os.path.join(path,i,j,k)              \n",
    "                    ADC.append(ADC_0)\n",
    "            elif i=='dwi'and j=='2':\n",
    "                for k in os.listdir(os.path.join(path,i,j)):\n",
    "                    DWI_0 = os.path.join(path,i,j,k)                   \n",
    "                    DWI.append(DWI_0)\n",
    "            elif i=='t2w'and j=='2':\n",
    "                 for k in os.listdir(os.path.join(path,i,j)):\n",
    "                    T2_0 = os.path.join(path,i,j,k)          \n",
    "                    T2.append(T2_0)\n",
    "print(ADC)\n",
    "print(DWI)\n",
    "print(T2)\n",
    "#先将彩色图片读为灰度图，resize为统一大小，作为三个通道拼接起来               \n",
    "for i in range(len(ADC)):\n",
    "    image1 = cv2.imread(ADC[i],cv2.IMREAD_GRAYSCALE)\n",
    "    image2 = cv2.imread(DWI[i],cv2.IMREAD_GRAYSCALE)\n",
    "    image3 = cv2.imread(T2[i],cv2.IMREAD_GRAYSCALE)\n",
    "    img1_resized = cv2.resize(image1, (384, 384))\n",
    "    img2_resized = cv2.resize(image2, (384, 384))\n",
    "    img3_resized = cv2.resize(image3, (384, 384))\n",
    "    img_merged = np.dstack((img1_resized, img2_resized, img3_resized))\n",
    "    print(img1_resized.shape)\n",
    "    print(img2_resized.shape)\n",
    "    print(img3_resized.shape)\n",
    "    print(img_merged.shape)\n",
    "    cv2.imwrite(os.path.join(r'/home/yfang/dataset/MRI_110_merge/2',os.path.basename(ADC[i])),img_merged)\n"
   ]
  }
 ],
 "metadata": {
  "language_info": {
   "name": "python"
  },
  "orig_nbformat": 4
 },
 "nbformat": 4,
 "nbformat_minor": 2
}
